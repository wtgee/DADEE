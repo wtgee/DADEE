{
 "metadata": {
  "name": "LADEE Observing"
 },
 "nbformat": 3,
 "nbformat_minor": 0,
 "worksheets": [
  {
   "cells": [
    {
     "cell_type": "code",
     "collapsed": false,
     "input": [
      "import ephem"
     ],
     "language": "python",
     "metadata": {},
     "outputs": [],
     "prompt_number": 41
    },
    {
     "cell_type": "code",
     "collapsed": false,
     "input": [
      "# Set observation location - select key from list below\n",
      "location = 'hilo'\n",
      "\n",
      "# Add more locations as needed\n",
      "observer_locations = {\n",
      "    'hilo': {\n",
      "        'lon': '-155:05:23:99',\n",
      "        'lat': '19:42:00:00',\n",
      "        'elevation': 88 , # meters\n",
      "        'temp': 23, # celsius\n",
      "        'pressure': 1010 # This is default but also a guess\n",
      "     },\n",
      "    'vis': {\n",
      "        'lon': '-155:27:52:35', \n",
      "        'lat': '19:45:42:96',\n",
      "        'elevation': 2848.5, # meters\n",
      "        'temp': 15, # celsius - this is a guess\n",
      "        'pressure': 700 #this is a guess            \n",
      "    },\n",
      "}"
     ],
     "language": "python",
     "metadata": {},
     "outputs": [],
     "prompt_number": 42
    },
    {
     "cell_type": "code",
     "collapsed": false,
     "input": [
      "# Building an Observer to watch the moon. Shouldn't need to change anything here. Move along.\n",
      "\n",
      "# Get the settings for our location\n",
      "location_settings = observer_locations[location]\n",
      "\n",
      "# Setup our observer from our given location\n",
      "observer = ephem.Observer()\n",
      "\n",
      "observer.lat = location_settings['lat']\n",
      "observer.lon = location_settings['lon']\n",
      "observer.elevation = location_settings['elevation']\n",
      "observer.temp = location_settings['temp']\n",
      "observer.pressure = location_settings['pressure']"
     ],
     "language": "python",
     "metadata": {},
     "outputs": [],
     "prompt_number": 43
    },
    {
     "cell_type": "code",
     "collapsed": false,
     "input": [
      "# Create our Moon and look at it from our observer location\n",
      "moon = ephem.Moon(observer)"
     ],
     "language": "python",
     "metadata": {},
     "outputs": [],
     "prompt_number": 44
    },
    {
     "cell_type": "code",
     "collapsed": false,
     "input": [
      "from ephem import stars\n",
      "\n",
      "# First we go through the stars and compute their position for our observer\n",
      "# There are not that many stars in the list (122) so this is not a big deal\n",
      "for name, star in stars.stars.items():\n",
      "    star.compute(observer)\n",
      "\n",
      "def find_nearest_star(obj):\n",
      "    \"\"\"\n",
      "        Finds the star that appears closest to the moon for the observer. The star list\n",
      "        comes from ephems list of stars of known magnitudes.\n",
      "    \"\"\"\n",
      "    # Get the dict of all separations for object\n",
      "    star_sep = {name:ephem.separation(obj,star) for name,star in stars.stars.items()}\n",
      "    \n",
      "    # Get the star with minimum separation\n",
      "    min_star_name = min(star_sep, key = lambda k: star_sep[k])\n",
      "    return stars.star(min_star_name)\n",
      "\n",
      "near_star = find_nearest_star(moon)"
     ],
     "language": "python",
     "metadata": {},
     "outputs": [],
     "prompt_number": 45
    },
    {
     "cell_type": "code",
     "collapsed": false,
     "input": [
      "print(\"Separation: {}\".format(ephem.separation(moon,near_star)))\n",
      "for obj in (near_star,moon):\n",
      "    print(\"\"\"\n",
      "{:>9}:\n",
      "        Az/Alt: {}/{}\n",
      "        Mag:    {}\n",
      "\"\"\".format(obj.name, obj.az, obj.alt, obj.mag))"
     ],
     "language": "python",
     "metadata": {},
     "outputs": [
      {
       "output_type": "stream",
       "stream": "stdout",
       "text": [
        "Separation: 11:20:10.1\n",
        "\n",
        "    Hamal:\n",
        "        Az/Alt: 76:30:55.8/49:49:23.5\n",
        "        Mag:    2.01\n",
        "\n",
        "\n",
        "     Moon:\n",
        "        Az/Alt: 86:57:07.1/41:08:33.3\n",
        "        Mag:    -12.18\n",
        "\n"
       ]
      }
     ],
     "prompt_number": 47
    },
    {
     "cell_type": "code",
     "collapsed": false,
     "input": [],
     "language": "python",
     "metadata": {},
     "outputs": []
    }
   ],
   "metadata": {}
  }
 ]
}